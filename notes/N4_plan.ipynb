{
 "cells": [
  {
   "cell_type": "markdown",
   "metadata": {},
   "source": [
    "# The Plan\n",
    "\n",
    "## 1. Summary:\n",
    "\n",
    "1. Do somthing with the Gagne's data set\n",
    "\n",
    "    * The best model is the mixature policy model. Put up a paper that looks like the Kaggle competition. \n",
    "    * We shouldn't implement any new computational model on this probability tracking task. However, we try on its variant.  \n",
    "<br>\n",
    "\n",
    "2. A new modeling work\n",
    "    * Collins (2012) & [Collins (2014)](https://www.jneurosci.org/content/jneuro/34/41/13747.full.pdf) data set with Schizophrenia patient.\n",
    "    * The model has very specific new prediction, which is waited to be tested.\n",
    "    * This work can go into my phd thesis"
   ]
  },
  {
   "cell_type": "markdown",
   "metadata": {},
   "source": [
    "## The gagne's project \n",
    "\n",
    "### The best model\n",
    "\n",
    "The update rule follow,\n",
    "\n",
    "$$p(a) =  \\alpha[o(a) - p(a)]$$\n",
    "\n",
    "$$\\pi_0(a) =  \\alpha[\\mathbb{I}(a) - \\pi_0(a)]$$\n",
    "\n",
    "And the decision rule is, \n",
    "\n",
    "The best model is,\n",
    "\n",
    "\n",
    "$$U(a) = w_1p(a) + w_2p(a)m(a) + w_3m(a) + (1-w_1 -w_2-w_3)\\pi_0(a)$$\n",
    "\n",
    "$$\\pi(a)\\propto \\exp(\\beta U(a))$$\n",
    "\n",
    "### What can we do with the best model\n",
    "\n",
    "We can fit different parameters to different conditions for each subject. Use Bayesian random effect analysis if necessary. \n",
    "\n",
    "subj n35\n",
    "\n",
    "* α_STA: 0.6147617866276457\n",
    "* α_VOL: 0.7539927799200338\n",
    "* α_ACT: 0.5132137858574797\n",
    "* β:     17.003256596821974\n",
    "* w0:    0.0\n",
    "* w1:    0.3761836292918762\n",
    "* w2:    0.499361758384844\n",
    "\n",
    "\n",
    "Give an intuitive explanation of \"policy simplicity\": the policies that do not combine probability and magnitude are simpler.\n",
    "\n",
    "### An interesting variant\n",
    "\n",
    "A bandit problem with hidden context (change point detection), similar to daniel wolpert's nature paper. \n",
    "\n",
    "Context 1: \n",
    "\n",
    "* A: N(-2, 2)\n",
    "* B: N(4, 2)\n",
    "* C: N(2, 2)\n",
    "\n",
    "Context 2: \n",
    "\n",
    "* A: N(2, 2)\n",
    "* B: N(-2, 2)\n",
    "* C: N(4, 2)\n",
    "\n",
    "The context changes with along with time. \n",
    "\n",
    "\n",
    "\n"
   ]
  },
  {
   "cell_type": "markdown",
   "metadata": {},
   "source": []
  }
 ],
 "metadata": {
  "kernelspec": {
   "display_name": "Python 3.8.10 ('py3')",
   "language": "python",
   "name": "python3"
  },
  "language_info": {
   "codemirror_mode": {
    "name": "ipython",
    "version": 3
   },
   "file_extension": ".py",
   "mimetype": "text/x-python",
   "name": "python",
   "nbconvert_exporter": "python",
   "pygments_lexer": "ipython3",
   "version": "3.8.10"
  },
  "orig_nbformat": 4,
  "vscode": {
   "interpreter": {
    "hash": "026a2e0de64d16e4261b338391046de2222e48854e49c02150b0bae443d24681"
   }
  }
 },
 "nbformat": 4,
 "nbformat_minor": 2
}
